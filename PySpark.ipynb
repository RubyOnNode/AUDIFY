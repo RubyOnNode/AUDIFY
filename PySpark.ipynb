{
  "cells": [
    {
      "cell_type": "markdown",
      "metadata": {
        "id": "dFozCJO0GkTa"
      },
      "source": [
        "**Findings:**\n",
        "1. We Should Not take number of sessNUM as it is generally 1 or less than 9 for peaple who uninstall the app.\n",
        "2. If we have a system like we want to know the probablity of a person uninstalling than we can surely collect his data and than feed in the model. The low sessNum will indicate it has high probability of leaving\n",
        "meaning people who are knew are more likely to uninstall the app just using and than uninstall.\n",
        "Focus on making him use the app again and again like notification sending nnotification is great idea\n",
        "3. loyal users who have atleast more visits if they are churning than there is the problem\n",
        "4. two models because at low sessions techinue to find new probilty of churing depends on those particular sessions what they did in those sessions\n",
        "\n",
        "1. If my Null hypothesis is the user will churn means appremove 1 . We want Low false negative (FN) means we want to accurate predict if the user will churn and want to make the mistake of not identifying the the user who will churn. means predicting 0 when it is 1.\n",
        "Rejecting the null hypothesis when it is true. type 1 error.\n",
        "Basically it means high sensitvity and high recall.\n"
      ]
    },
    {
      "cell_type": "code",
      "execution_count": null,
      "metadata": {
        "colab": {
          "base_uri": "https://localhost:8080/"
        },
        "id": "q5UY65GwnfRY",
        "outputId": "94ecc69a-5ede-4ea8-d9cd-21d0083aa704"
      },
      "outputs": [
        {
          "output_type": "stream",
          "name": "stdout",
          "text": [
            "\u001b[33m\r0% [Working]\u001b[0m\r            \rGet:1 http://security.ubuntu.com/ubuntu bionic-security InRelease [88.7 kB]\n",
            "\u001b[33m\r0% [Connecting to archive.ubuntu.com (185.125.190.36)] [1 InRelease 14.2 kB/88.\u001b[0m\r                                                                               \rGet:2 https://cloud.r-project.org/bin/linux/ubuntu bionic-cran40/ InRelease [3,626 B]\n",
            "Hit:3 https://developer.download.nvidia.com/compute/cuda/repos/ubuntu1804/x86_64  InRelease\n",
            "Get:4 http://ppa.launchpad.net/c2d4u.team/c2d4u4.0+/ubuntu bionic InRelease [15.9 kB]\n",
            "Hit:5 http://archive.ubuntu.com/ubuntu bionic InRelease\n",
            "Ign:6 https://developer.download.nvidia.com/compute/machine-learning/repos/ubuntu1804/x86_64  InRelease\n",
            "Hit:7 https://developer.download.nvidia.com/compute/machine-learning/repos/ubuntu1804/x86_64  Release\n",
            "Get:8 http://archive.ubuntu.com/ubuntu bionic-updates InRelease [88.7 kB]\n",
            "Get:9 http://security.ubuntu.com/ubuntu bionic-security/main amd64 Packages [2,799 kB]\n",
            "Hit:10 http://ppa.launchpad.net/cran/libgit2/ubuntu bionic InRelease\n",
            "Get:12 http://security.ubuntu.com/ubuntu bionic-security/universe amd64 Packages [1,512 kB]\n",
            "Get:13 http://ppa.launchpad.net/deadsnakes/ppa/ubuntu bionic InRelease [15.9 kB]\n",
            "Get:14 http://archive.ubuntu.com/ubuntu bionic-backports InRelease [74.6 kB]\n",
            "Hit:15 http://ppa.launchpad.net/graphics-drivers/ppa/ubuntu bionic InRelease\n",
            "Get:16 http://ppa.launchpad.net/c2d4u.team/c2d4u4.0+/ubuntu bionic/main Sources [1,992 kB]\n",
            "Get:17 http://archive.ubuntu.com/ubuntu bionic-updates/universe amd64 Packages [2,286 kB]\n",
            "Get:18 http://archive.ubuntu.com/ubuntu bionic-updates/main amd64 Packages [3,231 kB]\n",
            "Get:19 http://ppa.launchpad.net/c2d4u.team/c2d4u4.0+/ubuntu bionic/main amd64 Packages [1,021 kB]\n",
            "Get:20 http://ppa.launchpad.net/deadsnakes/ppa/ubuntu bionic/main amd64 Packages [45.3 kB]\n",
            "Fetched 13.2 MB in 3s (3,882 kB/s)\n",
            "Reading package lists... Done\n",
            "Building dependency tree       \n",
            "Reading state information... Done\n",
            "45 packages can be upgraded. Run 'apt list --upgradable' to see them.\n",
            "Selecting previously unselected package openjdk-8-jre-headless:amd64.\n",
            "(Reading database ... 155632 files and directories currently installed.)\n",
            "Preparing to unpack .../openjdk-8-jre-headless_8u312-b07-0ubuntu1~18.04_amd64.deb ...\n",
            "Unpacking openjdk-8-jre-headless:amd64 (8u312-b07-0ubuntu1~18.04) ...\n",
            "Selecting previously unselected package openjdk-8-jdk-headless:amd64.\n",
            "Preparing to unpack .../openjdk-8-jdk-headless_8u312-b07-0ubuntu1~18.04_amd64.deb ...\n",
            "Unpacking openjdk-8-jdk-headless:amd64 (8u312-b07-0ubuntu1~18.04) ...\n",
            "Setting up openjdk-8-jre-headless:amd64 (8u312-b07-0ubuntu1~18.04) ...\n",
            "update-alternatives: using /usr/lib/jvm/java-8-openjdk-amd64/jre/bin/orbd to provide /usr/bin/orbd (orbd) in auto mode\n",
            "update-alternatives: using /usr/lib/jvm/java-8-openjdk-amd64/jre/bin/servertool to provide /usr/bin/servertool (servertool) in auto mode\n",
            "update-alternatives: using /usr/lib/jvm/java-8-openjdk-amd64/jre/bin/tnameserv to provide /usr/bin/tnameserv (tnameserv) in auto mode\n",
            "Setting up openjdk-8-jdk-headless:amd64 (8u312-b07-0ubuntu1~18.04) ...\n",
            "update-alternatives: using /usr/lib/jvm/java-8-openjdk-amd64/bin/idlj to provide /usr/bin/idlj (idlj) in auto mode\n",
            "update-alternatives: using /usr/lib/jvm/java-8-openjdk-amd64/bin/wsimport to provide /usr/bin/wsimport (wsimport) in auto mode\n",
            "update-alternatives: using /usr/lib/jvm/java-8-openjdk-amd64/bin/jsadebugd to provide /usr/bin/jsadebugd (jsadebugd) in auto mode\n",
            "update-alternatives: using /usr/lib/jvm/java-8-openjdk-amd64/bin/native2ascii to provide /usr/bin/native2ascii (native2ascii) in auto mode\n",
            "update-alternatives: using /usr/lib/jvm/java-8-openjdk-amd64/bin/javah to provide /usr/bin/javah (javah) in auto mode\n",
            "update-alternatives: using /usr/lib/jvm/java-8-openjdk-amd64/bin/hsdb to provide /usr/bin/hsdb (hsdb) in auto mode\n",
            "update-alternatives: using /usr/lib/jvm/java-8-openjdk-amd64/bin/clhsdb to provide /usr/bin/clhsdb (clhsdb) in auto mode\n",
            "update-alternatives: using /usr/lib/jvm/java-8-openjdk-amd64/bin/xjc to provide /usr/bin/xjc (xjc) in auto mode\n",
            "update-alternatives: using /usr/lib/jvm/java-8-openjdk-amd64/bin/schemagen to provide /usr/bin/schemagen (schemagen) in auto mode\n",
            "update-alternatives: using /usr/lib/jvm/java-8-openjdk-amd64/bin/extcheck to provide /usr/bin/extcheck (extcheck) in auto mode\n",
            "update-alternatives: using /usr/lib/jvm/java-8-openjdk-amd64/bin/jhat to provide /usr/bin/jhat (jhat) in auto mode\n",
            "update-alternatives: using /usr/lib/jvm/java-8-openjdk-amd64/bin/wsgen to provide /usr/bin/wsgen (wsgen) in auto mode\n"
          ]
        }
      ],
      "source": [
        "!sudo apt update\n",
        "!apt-get install openjdk-8-jdk-headless -qq\n",
        "!wget -q https://archive.apache.org/dist/spark/spark-3.0.1/spark-3.0.1-bin-hadoop3.2.tgz\n",
        "!tar xf spark-3.0.1-bin-hadoop3.2.tgz\n",
        "!pip install -q findspark"
      ]
    },
    {
      "cell_type": "code",
      "execution_count": null,
      "metadata": {
        "id": "k1V6rdDMiORt"
      },
      "outputs": [],
      "source": [
        "import os\n",
        "os.environ[\"JAVA_HOME\"] = \"/usr/lib/jvm/java-8-openjdk-amd64\"\n",
        "os.environ[\"SPARK_HOME\"] = \"/content/spark-3.0.1-bin-hadoop3.2\"\n",
        "\n",
        "import findspark\n",
        "findspark.init()\n",
        "findspark.find()\n",
        "\n",
        "from pyspark.sql import SparkSession\n"
      ]
    },
    {
      "cell_type": "markdown",
      "metadata": {
        "id": "C5gnyHDQsQvb"
      },
      "source": [
        "***Mount the google drive***"
      ]
    },
    {
      "cell_type": "code",
      "execution_count": null,
      "metadata": {
        "colab": {
          "base_uri": "https://localhost:8080/"
        },
        "id": "1i23xxDGoKM1",
        "outputId": "25e7a90a-a8d3-41e1-c372-6cb1d46ec77c"
      },
      "outputs": [
        {
          "name": "stdout",
          "output_type": "stream",
          "text": [
            "Drive already mounted at /content/drive; to attempt to forcibly remount, call drive.mount(\"/content/drive\", force_remount=True).\n"
          ]
        }
      ],
      "source": [
        "from google.colab import drive\n",
        "drive.mount('/content/drive')"
      ]
    },
    {
      "cell_type": "markdown",
      "metadata": {
        "id": "VwTw-aLxsXY3"
      },
      "source": [
        "***Create Spark Session***"
      ]
    },
    {
      "cell_type": "code",
      "execution_count": null,
      "metadata": {
        "id": "vRMkjMQYniTg"
      },
      "outputs": [],
      "source": [
        "spark = SparkSession.builder\\\n",
        ".master(\"local[1]\")\\\n",
        ".appName(\"SparkByExamples.com\")\\\n",
        ".config(\"dfs.client.read.shortcircuit.skip.checksum\", \"true\")\\\n",
        ".getOrCreate()"
      ]
    },
    {
      "cell_type": "code",
      "execution_count": null,
      "metadata": {
        "id": "OkXXa9nLntsj"
      },
      "outputs": [],
      "source": [
        "from pyspark import SparkContext\n",
        "os.environ['PYSPARK_SUBMIT_ARGS']=\"--master local[5] pyspark-shell\"\n",
        "sc = SparkContext.getOrCreate()"
      ]
    },
    {
      "cell_type": "markdown",
      "metadata": {
        "id": "UGTiEEeMscBi"
      },
      "source": [
        " ***Read the DataFrame***\n"
      ]
    },
    {
      "cell_type": "code",
      "execution_count": null,
      "metadata": {
        "id": "39ppyT-qn3Tk"
      },
      "outputs": [],
      "source": [
        "df = spark.read.csv(\"/content/drive/MyDrive/Audify/churned_problem_data.csv\",inferSchema=True,header=True)"
      ]
    },
    {
      "cell_type": "code",
      "execution_count": null,
      "metadata": {
        "colab": {
          "base_uri": "https://localhost:8080/"
        },
        "id": "WdXiw9vIix9Q",
        "outputId": "857b7ed2-d451-4049-be90-328555fbdb67"
      },
      "outputs": [
        {
          "data": {
            "text/plain": [
              "['user_pseudo_id',\n",
              " 'totalEventCount',\n",
              " 'first_activity_time',\n",
              " 'last_activity_time',\n",
              " 'sessNum',\n",
              " 'engTime_sec',\n",
              " 'appRemove',\n",
              " 'app_exception',\n",
              " 'app_clear_data',\n",
              " 'ad_close_event',\n",
              " 'album_art_change_event',\n",
              " 'bottom_mini_playing_bar_event',\n",
              " 'bottom_option_click_event',\n",
              " 'current_search_tab_event',\n",
              " 'edit_tags_page_events',\n",
              " 'equalizer_event',\n",
              " 'feature_popup_events',\n",
              " 'firebase_campaign',\n",
              " 'first_open',\n",
              " 'first_open_custom_date_event',\n",
              " 'floating_player_event',\n",
              " 'font_change_event',\n",
              " 'genres_page_event',\n",
              " 'ham_burger_click_event',\n",
              " 'inside_page_events',\n",
              " 'interstitial_ad_events',\n",
              " 'landing_page_events',\n",
              " 'language_dialog_events',\n",
              " 'list_item_clicked_event',\n",
              " 'lyrics_open_event',\n",
              " 'lyrics_page_events',\n",
              " 'mini_youtube_event',\n",
              " 'notification_events',\n",
              " 'number_of_items_event',\n",
              " 'os_update',\n",
              " 'permission_event',\n",
              " 'personalization_assignment',\n",
              " 'playing_window_event',\n",
              " 'playlist_event',\n",
              " 'playstore_rating_redirect_event',\n",
              " 'profile_page_events',\n",
              " 'remove_ads_purchase_event',\n",
              " 'ringtone_cutter_event',\n",
              " 'screen_view',\n",
              " 'settings_page_events',\n",
              " 'session_start',\n",
              " 'share',\n",
              " 'sort_by_events',\n",
              " 'theme_event',\n",
              " 'top_tab_event',\n",
              " 'user_engagement',\n",
              " 'video_notification_event',\n",
              " 'voice_assistant_event',\n",
              " 'wellness_event',\n",
              " 'widget_events',\n",
              " 'youtube_event']"
            ]
          },
          "execution_count": 7,
          "metadata": {},
          "output_type": "execute_result"
        }
      ],
      "source": [
        "df.columns"
      ]
    },
    {
      "cell_type": "code",
      "execution_count": null,
      "metadata": {
        "id": "KiVexW-hi0nH"
      },
      "outputs": [],
      "source": [
        "in_app_experience = [\n",
        " 'app_exception',\n",
        " 'app_clear_data',\n",
        " 'album_art_change_event',\n",
        " 'bottom_mini_playing_bar_event',\n",
        " 'bottom_option_click_event',\n",
        " 'current_search_tab_event',\n",
        " 'edit_tags_page_events',\n",
        " 'equalizer_event',\n",
        " 'feature_popup_events',\n",
        " 'font_change_event',\n",
        " 'genres_page_event',\n",
        " 'ham_burger_click_event',\n",
        " 'inside_page_events',\n",
        " 'list_item_clicked_event',\n",
        " 'personalization_assignment',\n",
        " 'playing_window_event',\n",
        " 'playlist_event',\n",
        " 'profile_page_events',\n",
        " 'settings_page_events',\n",
        " 'theme_event',\n",
        " 'top_tab_event',\n",
        " 'wellness_event',\n",
        " 'widget_events',             \n",
        "]\n",
        "\n",
        "special_features = [\n",
        "      'floating_player_event',\n",
        "      'lyrics_open_event',\n",
        "      'lyrics_page_events',\n",
        "      'mini_youtube_event',\n",
        "      'ringtone_cutter_event',\n",
        "      'voice_assistant_event',\n",
        "      'youtube_event',\n",
        "\n",
        "]\n",
        "\n",
        "notification_events = [\n",
        "   'notification_events',\n",
        "   'video_notification_event',                   \n",
        "]\n",
        "\n",
        "adsEvents = [\n",
        "    'ad_close_event',    \n",
        "    'remove_ads_purchase_event',\n",
        "    'interstitial_ad_events', \n",
        "]\n",
        "\n",
        "engagement_events =[\n",
        "    'engTime_sec',   \n",
        "    'user_engagement',             \n",
        "]\n",
        "\n",
        "to_modify = [\n",
        "  'totalEventCount',\n",
        "  'sessNum', \n",
        "  'screen_view', \n",
        "  'share',         \n",
        "]"
      ]
    },
    {
      "cell_type": "markdown",
      "metadata": {
        "id": "Rq1-llO6pejh"
      },
      "source": [
        "***Total Features To Take***"
      ]
    },
    {
      "cell_type": "code",
      "execution_count": null,
      "metadata": {
        "id": "LssBySUkpeGL"
      },
      "outputs": [],
      "source": [
        "total_features = [\n",
        "      'app_exception',\n",
        " 'app_clear_data',\n",
        " 'album_art_change_event',\n",
        " 'bottom_mini_playing_bar_event',\n",
        " 'bottom_option_click_event',\n",
        " 'current_search_tab_event',\n",
        " 'edit_tags_page_events',\n",
        " 'equalizer_event',\n",
        " 'feature_popup_events',\n",
        " 'font_change_event',\n",
        " 'genres_page_event',\n",
        " 'ham_burger_click_event',\n",
        " 'inside_page_events',\n",
        " 'list_item_clicked_event',\n",
        " 'personalization_assignment',\n",
        " 'playing_window_event',\n",
        " 'playlist_event',\n",
        " 'profile_page_events',\n",
        " 'settings_page_events',\n",
        " 'theme_event',\n",
        " 'top_tab_event',\n",
        " 'wellness_event',\n",
        " 'widget_events',\n",
        " 'floating_player_event',\n",
        " 'lyrics_open_event',\n",
        "  'lyrics_page_events',\n",
        "  'mini_youtube_event',\n",
        "  'ringtone_cutter_event',\n",
        "  'voice_assistant_event',\n",
        "  'youtube_event',\n",
        "  'notification_events',\n",
        "  'video_notification_event', \n",
        "  'ad_close_event',    \n",
        "  'remove_ads_purchase_event',\n",
        "  'interstitial_ad_events',\n",
        "  'engTime_sec',   \n",
        "  'user_engagement', \n",
        "  'totalEventCount',\n",
        "  'sessNum', \n",
        "  'screen_view', \n",
        "  'share',\n",
        "  'appRemove'          \n",
        "]"
      ]
    },
    {
      "cell_type": "markdown",
      "metadata": {
        "id": "fLhxc4nosrG_"
      },
      "source": [
        "**Let's look into the datatypes of the dataset**"
      ]
    },
    {
      "cell_type": "code",
      "execution_count": null,
      "metadata": {
        "colab": {
          "base_uri": "https://localhost:8080/"
        },
        "id": "ewG7AGyZovlO",
        "outputId": "62b2c76c-5d31-4387-b670-2ee9c97bff81"
      },
      "outputs": [
        {
          "name": "stdout",
          "output_type": "stream",
          "text": [
            "root\n",
            " |-- user_pseudo_id: string (nullable = true)\n",
            " |-- totalEventCount: integer (nullable = true)\n",
            " |-- first_activity_time: string (nullable = true)\n",
            " |-- last_activity_time: string (nullable = true)\n",
            " |-- sessNum: double (nullable = true)\n",
            " |-- engTime_sec: double (nullable = true)\n",
            " |-- appRemove: integer (nullable = true)\n",
            " |-- app_exception: integer (nullable = true)\n",
            " |-- app_clear_data: integer (nullable = true)\n",
            " |-- ad_close_event: integer (nullable = true)\n",
            " |-- album_art_change_event: integer (nullable = true)\n",
            " |-- bottom_mini_playing_bar_event: integer (nullable = true)\n",
            " |-- bottom_option_click_event: integer (nullable = true)\n",
            " |-- current_search_tab_event: integer (nullable = true)\n",
            " |-- edit_tags_page_events: integer (nullable = true)\n",
            " |-- equalizer_event: integer (nullable = true)\n",
            " |-- feature_popup_events: integer (nullable = true)\n",
            " |-- firebase_campaign: integer (nullable = true)\n",
            " |-- first_open: integer (nullable = true)\n",
            " |-- first_open_custom_date_event: integer (nullable = true)\n",
            " |-- floating_player_event: integer (nullable = true)\n",
            " |-- font_change_event: integer (nullable = true)\n",
            " |-- genres_page_event: integer (nullable = true)\n",
            " |-- ham_burger_click_event: integer (nullable = true)\n",
            " |-- inside_page_events: integer (nullable = true)\n",
            " |-- interstitial_ad_events: integer (nullable = true)\n",
            " |-- landing_page_events: integer (nullable = true)\n",
            " |-- language_dialog_events: integer (nullable = true)\n",
            " |-- list_item_clicked_event: integer (nullable = true)\n",
            " |-- lyrics_open_event: integer (nullable = true)\n",
            " |-- lyrics_page_events: integer (nullable = true)\n",
            " |-- mini_youtube_event: integer (nullable = true)\n",
            " |-- notification_events: integer (nullable = true)\n",
            " |-- number_of_items_event: integer (nullable = true)\n",
            " |-- os_update: integer (nullable = true)\n",
            " |-- permission_event: integer (nullable = true)\n",
            " |-- personalization_assignment: integer (nullable = true)\n",
            " |-- playing_window_event: integer (nullable = true)\n",
            " |-- playlist_event: integer (nullable = true)\n",
            " |-- playstore_rating_redirect_event: integer (nullable = true)\n",
            " |-- profile_page_events: integer (nullable = true)\n",
            " |-- remove_ads_purchase_event: integer (nullable = true)\n",
            " |-- ringtone_cutter_event: integer (nullable = true)\n",
            " |-- screen_view: integer (nullable = true)\n",
            " |-- settings_page_events: integer (nullable = true)\n",
            " |-- session_start: integer (nullable = true)\n",
            " |-- share: integer (nullable = true)\n",
            " |-- sort_by_events: integer (nullable = true)\n",
            " |-- theme_event: integer (nullable = true)\n",
            " |-- top_tab_event: integer (nullable = true)\n",
            " |-- user_engagement: integer (nullable = true)\n",
            " |-- video_notification_event: integer (nullable = true)\n",
            " |-- voice_assistant_event: integer (nullable = true)\n",
            " |-- wellness_event: integer (nullable = true)\n",
            " |-- widget_events: integer (nullable = true)\n",
            " |-- youtube_event: integer (nullable = true)\n",
            "\n"
          ]
        }
      ],
      "source": [
        "df.printSchema()"
      ]
    },
    {
      "cell_type": "code",
      "execution_count": null,
      "metadata": {
        "colab": {
          "base_uri": "https://localhost:8080/"
        },
        "id": "nJvmzQwUpm8T",
        "outputId": "6f734693-6cab-4219-fc7b-0a18e9627d7f"
      },
      "outputs": [
        {
          "name": "stdout",
          "output_type": "stream",
          "text": [
            "Total Columns:  56\n",
            "['user_pseudo_id', 'totalEventCount', 'first_activity_time', 'last_activity_time', 'sessNum', 'engTime_sec', 'appRemove', 'app_exception', 'app_clear_data', 'ad_close_event', 'album_art_change_event', 'bottom_mini_playing_bar_event', 'bottom_option_click_event', 'current_search_tab_event', 'edit_tags_page_events', 'equalizer_event', 'feature_popup_events', 'firebase_campaign', 'first_open', 'first_open_custom_date_event', 'floating_player_event', 'font_change_event', 'genres_page_event', 'ham_burger_click_event', 'inside_page_events', 'interstitial_ad_events', 'landing_page_events', 'language_dialog_events', 'list_item_clicked_event', 'lyrics_open_event', 'lyrics_page_events', 'mini_youtube_event', 'notification_events', 'number_of_items_event', 'os_update', 'permission_event', 'personalization_assignment', 'playing_window_event', 'playlist_event', 'playstore_rating_redirect_event', 'profile_page_events', 'remove_ads_purchase_event', 'ringtone_cutter_event', 'screen_view', 'settings_page_events', 'session_start', 'share', 'sort_by_events', 'theme_event', 'top_tab_event', 'user_engagement', 'video_notification_event', 'voice_assistant_event', 'wellness_event', 'widget_events', 'youtube_event']\n"
          ]
        }
      ],
      "source": [
        "df_columns=df.columns\n",
        "print(\"Total Columns: \",len(df_columns))\n",
        "print(df_columns)\n"
      ]
    },
    {
      "cell_type": "markdown",
      "metadata": {
        "id": "sEe0VgdWta9S"
      },
      "source": [
        "***Calculating the missing values in the data***"
      ]
    },
    {
      "cell_type": "code",
      "execution_count": null,
      "metadata": {
        "colab": {
          "base_uri": "https://localhost:8080/"
        },
        "id": "JdiIiD0pqA6i",
        "outputId": "a6c69684-cf5e-44c2-9ed7-755c4c478715"
      },
      "outputs": [
        {
          "name": "stdout",
          "output_type": "stream",
          "text": [
            "+--------------+---------------+-------------------+------------------+-------+-----------+---------+-------------+--------------+--------------+----------------------+-----------------------------+-------------------------+------------------------+---------------------+---------------+--------------------+-----------------+----------+----------------------------+---------------------+-----------------+-----------------+----------------------+------------------+----------------------+-------------------+----------------------+-----------------------+-----------------+------------------+------------------+-------------------+---------------------+---------+----------------+--------------------------+--------------------+--------------+-------------------------------+-------------------+-------------------------+---------------------+-----------+--------------------+-------------+-----+--------------+-----------+-------------+---------------+------------------------+---------------------+--------------+-------------+-------------+\n",
            "|user_pseudo_id|totalEventCount|first_activity_time|last_activity_time|sessNum|engTime_sec|appRemove|app_exception|app_clear_data|ad_close_event|album_art_change_event|bottom_mini_playing_bar_event|bottom_option_click_event|current_search_tab_event|edit_tags_page_events|equalizer_event|feature_popup_events|firebase_campaign|first_open|first_open_custom_date_event|floating_player_event|font_change_event|genres_page_event|ham_burger_click_event|inside_page_events|interstitial_ad_events|landing_page_events|language_dialog_events|list_item_clicked_event|lyrics_open_event|lyrics_page_events|mini_youtube_event|notification_events|number_of_items_event|os_update|permission_event|personalization_assignment|playing_window_event|playlist_event|playstore_rating_redirect_event|profile_page_events|remove_ads_purchase_event|ringtone_cutter_event|screen_view|settings_page_events|session_start|share|sort_by_events|theme_event|top_tab_event|user_engagement|video_notification_event|voice_assistant_event|wellness_event|widget_events|youtube_event|\n",
            "+--------------+---------------+-------------------+------------------+-------+-----------+---------+-------------+--------------+--------------+----------------------+-----------------------------+-------------------------+------------------------+---------------------+---------------+--------------------+-----------------+----------+----------------------------+---------------------+-----------------+-----------------+----------------------+------------------+----------------------+-------------------+----------------------+-----------------------+-----------------+------------------+------------------+-------------------+---------------------+---------+----------------+--------------------------+--------------------+--------------+-------------------------------+-------------------+-------------------------+---------------------+-----------+--------------------+-------------+-----+--------------+-----------+-------------+---------------+------------------------+---------------------+--------------+-------------+-------------+\n",
            "|             0|              0|                  0|                 0| 743908|    1350672|        0|            0|             0|             0|                     0|                            0|                        0|                       0|                    0|              0|                   0|                0|         0|                           0|                    0|                0|                0|                     0|                 0|                     0|                  0|                     0|                      0|                0|                 0|                 0|                  0|                    0|        0|               0|                         0|                   0|             0|                              0|                  0|                        0|                    0|          0|                   0|            0|    0|             0|          0|            0|              0|                       0|                    0|             0|            0|            0|\n",
            "+--------------+---------------+-------------------+------------------+-------+-----------+---------+-------------+--------------+--------------+----------------------+-----------------------------+-------------------------+------------------------+---------------------+---------------+--------------------+-----------------+----------+----------------------------+---------------------+-----------------+-----------------+----------------------+------------------+----------------------+-------------------+----------------------+-----------------------+-----------------+------------------+------------------+-------------------+---------------------+---------+----------------+--------------------------+--------------------+--------------+-------------------------------+-------------------+-------------------------+---------------------+-----------+--------------------+-------------+-----+--------------+-----------+-------------+---------------+------------------------+---------------------+--------------+-------------+-------------+\n",
            "\n"
          ]
        }
      ],
      "source": [
        "#Count the Null values in the dataframe\n",
        "from pyspark.sql.functions import col,isnan,when,count\n",
        "df.select([count(when(isnan(c) | col(c).isNull(), c)).alias(c) for c in df_columns]\n",
        "   ).show()"
      ]
    },
    {
      "cell_type": "code",
      "execution_count": null,
      "metadata": {
        "colab": {
          "base_uri": "https://localhost:8080/"
        },
        "id": "bxpEuoMZr1AN",
        "outputId": "957d6838-595c-46df-d37f-9a8e4aa6e638"
      },
      "outputs": [
        {
          "output_type": "stream",
          "name": "stdout",
          "text": [
            "+--------------------------------+---------------+---------------------------+---------------------------+-------+-----------+---------+-------------+--------------+--------------+----------------------+-----------------------------+-------------------------+------------------------+---------------------+---------------+--------------------+-----------------+----------+----------------------------+---------------------+-----------------+-----------------+----------------------+------------------+----------------------+-------------------+----------------------+-----------------------+-----------------+------------------+------------------+-------------------+---------------------+---------+----------------+--------------------------+--------------------+--------------+-------------------------------+-------------------+-------------------------+---------------------+-----------+--------------------+-------------+-----+--------------+-----------+-------------+---------------+------------------------+---------------------+--------------+-------------+-------------+\n",
            "|user_pseudo_id                  |totalEventCount|first_activity_time        |last_activity_time         |sessNum|engTime_sec|appRemove|app_exception|app_clear_data|ad_close_event|album_art_change_event|bottom_mini_playing_bar_event|bottom_option_click_event|current_search_tab_event|edit_tags_page_events|equalizer_event|feature_popup_events|firebase_campaign|first_open|first_open_custom_date_event|floating_player_event|font_change_event|genres_page_event|ham_burger_click_event|inside_page_events|interstitial_ad_events|landing_page_events|language_dialog_events|list_item_clicked_event|lyrics_open_event|lyrics_page_events|mini_youtube_event|notification_events|number_of_items_event|os_update|permission_event|personalization_assignment|playing_window_event|playlist_event|playstore_rating_redirect_event|profile_page_events|remove_ads_purchase_event|ringtone_cutter_event|screen_view|settings_page_events|session_start|share|sort_by_events|theme_event|top_tab_event|user_engagement|video_notification_event|voice_assistant_event|wellness_event|widget_events|youtube_event|\n",
            "+--------------------------------+---------------+---------------------------+---------------------------+-------+-----------+---------+-------------+--------------+--------------+----------------------+-----------------------------+-------------------------+------------------------+---------------------+---------------+--------------------+-----------------+----------+----------------------------+---------------------+-----------------+-----------------+----------------------+------------------+----------------------+-------------------+----------------------+-----------------------+-----------------+------------------+------------------+-------------------+---------------------+---------+----------------+--------------------------+--------------------+--------------+-------------------------------+-------------------+-------------------------+---------------------+-----------+--------------------+-------------+-----+--------------+-----------+-------------+---------------+------------------------+---------------------+--------------+-------------+-------------+\n",
            "|2a33e972f4731248662f28c714156551|1              |2022-03-13 19:18:12.015 UTC|2022-03-13 19:18:12.015 UTC|null   |null       |0        |0            |0             |0             |0                     |0                            |0                        |0                       |0                    |0              |0                   |0                |0         |0                           |0                    |0                |0                |0                     |0                 |0                     |0                  |0                     |0                      |0                |0                 |0                 |8                  |0                    |0        |0               |0                         |0                   |0             |0                              |0                  |0                        |0                    |0          |0                   |0            |0    |0             |0          |0            |0              |0                       |0                    |0             |0            |0            |\n",
            "|11aa7d8c808a35c1566d41d184aa5145|1              |2022-03-13 21:57:56.573 UTC|2022-03-13 21:57:56.573 UTC|null   |null       |0        |0            |0             |0             |0                     |0                            |0                        |0                       |0                    |0              |0                   |0                |0         |0                           |0                    |0                |0                |0                     |0                 |0                     |0                  |0                     |0                      |0                |0                 |0                 |8                  |0                    |0        |0               |0                         |0                   |0             |0                              |0                  |0                        |0                    |0          |0                   |0            |0    |0             |0          |0            |0              |0                       |0                    |0             |0            |0            |\n",
            "|cb56e3a8ef28723efc95ce7812974c7e|1              |2022-03-13 21:38:07.461 UTC|2022-03-13 21:38:07.461 UTC|null   |null       |0        |0            |0             |0             |0                     |0                            |0                        |0                       |0                    |0              |0                   |0                |0         |0                           |0                    |0                |0                |0                     |0                 |0                     |0                  |0                     |0                      |0                |0                 |0                 |8                  |0                    |0        |0               |0                         |0                   |0             |0                              |0                  |0                        |0                    |0          |0                   |0            |0    |0             |0          |0            |0              |0                       |0                    |0             |0            |0            |\n",
            "|4fa298d11f984953ed45a3aa44715d63|6              |2022-03-13 19:04:10.215 UTC|2022-03-14 17:16:19.524 UTC|null   |null       |0        |0            |0             |0             |0                     |0                            |0                        |0                       |0                    |0              |0                   |0                |0         |0                           |0                    |0                |0                |0                     |0                 |0                     |0                  |0                     |0                      |0                |0                 |0                 |48                 |0                    |0        |0               |0                         |0                   |0             |0                              |0                  |0                        |0                    |0          |0                   |0            |0    |0             |0          |0            |0              |0                       |0                    |0             |0            |0            |\n",
            "|fbbe3e8b5d3179dc78f8b7f079fdc14e|1              |2022-03-13 23:37:57.811 UTC|2022-03-13 23:37:57.811 UTC|1.0    |null       |1        |0            |0             |0             |0                     |0                            |0                        |0                       |0                    |0              |0                   |0                |0         |0                           |0                    |0                |0                |0                     |0                 |0                     |0                  |0                     |0                      |0                |0                 |0                 |0                  |0                    |0        |0               |0                         |0                   |0             |0                              |0                  |0                        |0                    |0          |0                   |0            |0    |0             |0          |0            |0              |0                       |0                    |0             |0            |0            |\n",
            "+--------------------------------+---------------+---------------------------+---------------------------+-------+-----------+---------+-------------+--------------+--------------+----------------------+-----------------------------+-------------------------+------------------------+---------------------+---------------+--------------------+-----------------+----------+----------------------------+---------------------+-----------------+-----------------+----------------------+------------------+----------------------+-------------------+----------------------+-----------------------+-----------------+------------------+------------------+-------------------+---------------------+---------+----------------+--------------------------+--------------------+--------------+-------------------------------+-------------------+-------------------------+---------------------+-----------+--------------------+-------------+-----+--------------+-----------+-------------+---------------+------------------------+---------------------+--------------+-------------+-------------+\n",
            "only showing top 5 rows\n",
            "\n"
          ]
        }
      ],
      "source": [
        "df.show(5,truncate=False)"
      ]
    },
    {
      "cell_type": "markdown",
      "metadata": {
        "id": "2vztwUREuMP6"
      },
      "source": [
        "# Total Unique Users\n",
        "\n",
        "groupby user_pseudo_id and count"
      ]
    },
    {
      "cell_type": "code",
      "execution_count": null,
      "metadata": {
        "colab": {
          "base_uri": "https://localhost:8080/"
        },
        "id": "WPBAep9crwoF",
        "outputId": "ba14bb8d-6982-4346-840e-7cd50ce39e87"
      },
      "outputs": [
        {
          "name": "stdout",
          "output_type": "stream",
          "text": [
            "+--------------------------------+-----+\n",
            "|user_pseudo_id                  |count|\n",
            "+--------------------------------+-----+\n",
            "|c75a7a99f51a8f4e578943bf9bb0b2ed|1    |\n",
            "|45f3e2ee9cc17dba89227869f8c6adf5|5    |\n",
            "|f1a38b974675019f7a1f63ea8a1c075d|3    |\n",
            "|045441ffe13ac1d934659a8c9a536914|3    |\n",
            "|2280b60eb3247cf54063e3d264e10172|1    |\n",
            "|221ab279ca417be5b9fca8a258423f56|5    |\n",
            "|e2688adbe119c58b1c6ae2a4a2b08d47|5    |\n",
            "|563bef316a43e461553b99c77d002d48|1    |\n",
            "|ff2bb4945badba76c426369104ae4abd|7    |\n",
            "|bc20e5d1c01cb21551909a30ee49dc5d|3    |\n",
            "|8aa1af3f87187e53760dbc3f5144faae|7    |\n",
            "|a6d454aab932dc5bb2af3effcc56e8dd|1    |\n",
            "|cab4f8c27c935c76bebc83506b683db8|7    |\n",
            "|9898c5975b263c97fb31270a9108ba83|5    |\n",
            "|883db8986cb7f1995eac139bf72df9cd|3    |\n",
            "|40f927be9f5f7b4e85d77cf1b917fc64|7    |\n",
            "|0e2635370d43d50458278f73093299df|6    |\n",
            "|dd66340050823c22eb9a2e3951ae2d1f|1    |\n",
            "|4e5e87f708344b3e26bc8f89bd12b4ce|4    |\n",
            "|b89fc68309a6b363852c673f96c040c3|1    |\n",
            "+--------------------------------+-----+\n",
            "only showing top 20 rows\n",
            "\n"
          ]
        }
      ],
      "source": [
        "unique_users_gb = df.groupBy(\"user_pseudo_id\").count()\n",
        "unique_users_gb.show(truncate=False)"
      ]
    },
    {
      "cell_type": "code",
      "execution_count": null,
      "metadata": {
        "id": "xPooIM-r5leI"
      },
      "outputs": [],
      "source": [
        "exprs = {x: \"sum\" for x in total_features if x is not 'user_pseudo_id'}\n",
        "df_final = df.groupBy('user_pseudo_id').agg(exprs)"
      ]
    },
    {
      "cell_type": "code",
      "execution_count": null,
      "metadata": {
        "colab": {
          "background_save": true,
          "base_uri": "https://localhost:8080/",
          "height": 325
        },
        "id": "H6Lj4ZhfXZOE",
        "outputId": "45f5fcaf-e2a2-4f03-b8d7-ac80bc1c95e2"
      },
      "outputs": [
        {
          "name": "stdout",
          "output_type": "stream",
          "text": [
            "+--------------------+------------------+--------------------+----------------------------------+------------+------------------------+-----------------------------+-------------------+--------------------------+---------------------------+-----------------------+-------------------+------------------+------------------------+----------------------------+--------------------------+----------+-------------------+-----------------------+------------------------------+-------------------------+-----------------------------+--------------+----------------+--------------------------+----------------+------------------------------+--------------------+----------------------+-------------------------------+-------------------+--------------------------+---------------------------+----------------------+-------------------------+------------------+-----------------------+------------------+---------------------------+----------------------+------------------+--------------------+-------------------------+\n",
            "|      user_pseudo_id|sum(widget_events)|sum(totalEventCount)|sum(bottom_mini_playing_bar_event)|sum(sessNum)|sum(notification_events)|sum(video_notification_event)|sum(app_clear_data)|sum(floating_player_event)|sum(interstitial_ad_events)|sum(lyrics_page_events)|sum(ad_close_event)|sum(app_exception)|sum(profile_page_events)|sum(list_item_clicked_event)|sum(voice_assistant_event)|sum(share)|sum(playlist_event)|sum(mini_youtube_event)|sum(bottom_option_click_event)|sum(feature_popup_events)|sum(current_search_tab_event)|sum(appRemove)|sum(theme_event)|sum(edit_tags_page_events)|sum(screen_view)|sum(remove_ads_purchase_event)|sum(user_engagement)|sum(genres_page_event)|sum(personalization_assignment)|sum(wellness_event)|sum(ringtone_cutter_event)|sum(album_art_change_event)|sum(lyrics_open_event)|sum(playing_window_event)|sum(top_tab_event)|sum(inside_page_events)|sum(youtube_event)|sum(ham_burger_click_event)|sum(font_change_event)|  sum(engTime_sec)|sum(equalizer_event)|sum(settings_page_events)|\n",
            "+--------------------+------------------+--------------------+----------------------------------+------------+------------------------+-----------------------------+-------------------+--------------------------+---------------------------+-----------------------+-------------------+------------------+------------------------+----------------------------+--------------------------+----------+-------------------+-----------------------+------------------------------+-------------------------+-----------------------------+--------------+----------------+--------------------------+----------------+------------------------------+--------------------+----------------------+-------------------------------+-------------------+--------------------------+---------------------------+----------------------+-------------------------+------------------+-----------------------+------------------+---------------------------+----------------------+------------------+--------------------+-------------------------+\n",
            "|c75a7a99f51a8f4e5...|                 0|                   1|                                 0|         1.0|                       0|                            0|                  0|                         0|                          0|                      0|                  0|                 0|                       0|                           0|                         0|         0|                  0|                      0|                             0|                        0|                            0|             1|               0|                         0|               0|                             0|                   0|                     0|                              0|                  0|                         0|                          0|                     0|                        0|                 0|                      0|                 0|                          0|                     0|              null|                   0|                        0|\n",
            "|45f3e2ee9cc17dba8...|                 0|                 627|                               232|        12.0|                     560|                           48|                  0|                         0|                         56|                      0|                  0|                 0|                       0|                           0|                         0|         0|                  0|                      0|                             0|                        0|                            0|             0|               8|                         0|            1336|                           640|                 968|                     0|                            384|                  0|                         0|                          0|                     0|                      512|                 0|                      0|                48|                          8|                     0|           2695.69|                   0|                        0|\n",
            "|f1a38b974675019f7...|                 0|                 123|                                 0|         5.0|                     480|                            0|                  0|                         0|                          0|                      0|                  0|                 0|                       0|                           0|                         0|         0|                  0|                      0|                             0|                        0|                            0|             0|               0|                         0|             104|                            16|                  40|                     0|                             32|                  0|                         0|                          0|                     0|                      256|                 0|                      0|                 0|                          0|                     0|           159.483|                   0|                        0|\n",
            "|045441ffe13ac1d93...|                 0|                  26|                                 0|         3.0|                      32|                            0|                  0|                         0|                          0|                      0|                  0|                 0|                       0|                           8|                         0|         0|                  0|                      0|                             0|                        0|                            0|             0|               0|                         0|              56|                             8|                  48|                     0|                             24|                  0|                         0|                          0|                     0|                        0|                 0|                      0|                 0|                          0|                     0|            80.546|                   0|                        0|\n",
            "|2280b60eb3247cf54...|                 0|                   1|                                 0|         1.0|                       0|                            0|                  0|                         0|                          0|                      0|                  0|                 0|                       0|                           0|                         0|         0|                  0|                      0|                             0|                        0|                            0|             0|               0|                         0|               0|                             0|                   8|                     0|                              0|                  0|                         0|                          0|                     0|                        0|                 0|                      0|                 0|                          0|                     0|             7.061|                   0|                        0|\n",
            "|221ab279ca417be5b...|                 0|                 382|                                 0|         6.0|                    2304|                            0|                  0|                         0|                         64|                      0|                  0|                 0|                       0|                          56|                         0|         0|                  0|                      0|                             0|                        0|                            0|             0|               0|                         0|             336|                            56|                 112|                     0|                              0|                  0|                         0|                          0|                     0|                        0|                 0|                      0|                 0|                          0|                     0|           588.567|                   0|                        0|\n",
            "|e2688adbe119c58b1...|                 0|                2206|                               232|        17.0|                      16|                            0|                  0|                         0|                       2344|                      0|                272|                 0|                       0|                        1544|                         0|         0|                  0|                      0|                           192|                        0|                          512|             0|               0|                         0|            7760|                           320|                2288|                     0|                            264|                  0|                         0|                          0|                    32|                      952|                 0|                      0|                 0|                          0|                     0|17225.331000000002|                  80|                        0|\n",
            "|563bef316a43e4615...|                 0|                   1|                                 0|         1.0|                       0|                            0|                  0|                         0|                          0|                      0|                  0|                 0|                       0|                           0|                         0|         0|                  0|                      0|                             0|                        0|                            0|             1|               0|                         0|               0|                             0|                   0|                     0|                              0|                  0|                         0|                          0|                     0|                        0|                 0|                      0|                 0|                          0|                     0|              null|                   0|                        0|\n",
            "|ff2bb4945badba76c...|                 0|                 220|                                16|         7.0|                     888|                            0|                  0|                         0|                          0|                      0|                  0|                 0|                       0|                          56|                         0|         0|                  0|                      0|                             0|                        0|                            0|             0|               0|                         0|             432|                            48|                  88|                     0|                            144|                  0|                         0|                          0|                     0|                        0|                 0|                      0|                 0|                          0|                     0|           198.255|                   0|                        0|\n",
            "|bc20e5d1c01cb2155...|                 0|                 232|                                40|         3.0|                    1448|                            0|                  0|                         0|                          0|                      0|                  0|                 0|                       0|                           8|                         0|         0|                  0|                      0|                             0|                        0|                            0|             0|               0|                         0|             144|                            24|                  48|                     0|                             72|                  0|                         0|                          0|                     0|                       48|                 0|                      0|                 0|                          0|                     0|           135.742|                   0|                        0|\n",
            "|8aa1af3f87187e537...|                 0|                2698|                               400|        32.0|                   10216|                            0|                  0|                        24|                          0|                      0|                  0|                 0|                       0|                         392|                         0|         0|                  0|                      0|                           200|                        0|                            0|             0|               0|                         0|            3576|                           600|                1360|                     0|                            792|                  0|                         0|                         32|                     8|                     3280|                 0|                      0|                 0|                          0|                     0|          6644.846|                   0|                        0|\n",
            "|a6d454aab932dc5bb...|                 0|                   1|                                 0|        null|                       0|                            0|                  0|                         0|                          0|                      0|                  0|                 0|                       0|                           0|                         0|         0|                  0|                      0|                             0|                        0|                            0|             1|               0|                         0|               0|                             0|                   0|                     0|                              0|                  0|                         0|                          0|                     0|                        0|                 0|                      0|                 0|                          0|                     0|              null|                   0|                        0|\n",
            "|cab4f8c27c935c76b...|               640|                 645|                                48|        17.0|                    1440|                            0|                  0|                         0|                          0|                      0|                  0|                 0|                       0|                         264|                         0|         0|                  0|                      0|                             0|                        0|                           32|             0|               0|                         0|            1152|                           104|                 696|                     0|                            128|                  0|                         0|                          0|                     0|                      336|                 0|                      8|                 0|                          0|                     0|          1175.351|                   0|                        0|\n",
            "|9898c5975b263c97f...|                 0|                 162|                                40|         5.0|                     440|                            0|                  0|                         0|                         72|                      0|                 16|                 0|                       0|                          40|                         0|         0|                  0|                      0|                             0|                        0|                            0|             0|               0|                         0|             240|                            32|                 160|                     0|                             96|                  0|                         0|                          0|                     0|                       64|                 0|                      0|                 0|                          0|                     0|           381.306|                   0|                        0|\n",
            "|883db8986cb7f1995...|                72|                  35|                                 0|         2.0|                      16|                            0|                  0|                         0|                          0|                      0|                  0|                 0|                       0|                           0|                         0|         0|                  0|                      0|                            24|                        0|                            0|             0|               0|                         0|              64|                             8|                  16|                     0|                              0|                  0|                         0|                          0|                     0|                        0|                 0|                      0|                 0|                          0|                     0|63.968999999999994|                   0|                        0|\n",
            "|40f927be9f5f7b4e8...|                 0|                 318|                               128|        19.0|                     440|                            0|                  0|                         0|                         64|                      0|                 16|                 0|                       0|                          16|                         0|         0|                  0|                      0|                             0|                        0|                            0|             0|               0|                         0|             728|                           112|                 360|                     0|                             80|                  0|                         0|                          0|                     0|                      336|                 0|                     40|                 0|                          0|                     0| 881.2040000000001|                   0|                        0|\n",
            "|0e2635370d43d5045...|                 0|                 126|                                48|         7.0|                     192|                            0|                  0|                         0|                        120|                      0|                  8|                 0|                       0|                           0|                         0|         0|                  0|                      0|                             0|                        0|                            0|             0|               0|                         0|             264|                            48|                 104|                     0|                            112|                  0|                         0|                          0|                     0|                       32|                 0|                      0|                 0|                          0|                     0|           149.672|                   0|                        0|\n",
            "|dd66340050823c22e...|                 0|                   2|                                 0|        null|                       0|                            0|                  0|                         0|                          0|                      0|                  0|                 0|                       0|                           0|                         0|         0|                  0|                      0|                             0|                        0|                            0|             0|               0|                         0|               0|                             0|                   0|                     0|                              0|                  0|                         0|                          0|                     0|                        0|                 0|                      0|                 0|                          0|                     0|             0.001|                   0|                        0|\n",
            "|4e5e87f708344b3e2...|                 0|                  52|                                24|         4.0|                      24|                            0|                  0|                         0|                          0|                      0|                  0|                 0|                       0|                          16|                         0|         0|                  0|                      0|                             0|                        0|                            0|             0|               0|                         0|             160|                            24|                  72|                     0|                             48|                  0|                         0|                          0|                     0|                        8|                 0|                      0|                 0|                          0|                     0|            60.019|                   0|                        0|\n",
            "|b89fc68309a6b3638...|                 0|                   1|                                 0|         1.0|                       0|                            0|                  0|                         0|                          0|                      0|                  0|                 0|                       0|                           0|                         0|         0|                  0|                      0|                             0|                        0|                            0|             1|               0|                         0|               0|                             0|                   0|                     0|                              0|                  0|                         0|                          0|                     0|                        0|                 0|                      0|                 0|                          0|                     0|              null|                   0|                        0|\n",
            "|61d4ceb347b7c7b5e...|                 0|                   1|                                 0|        null|                       0|                            0|                  0|                         0|                          0|                      0|                  0|                 0|                       0|                           0|                         0|         0|                  0|                      0|                             0|                        0|                            0|             0|               0|                         0|               0|                             0|                   0|                     0|                              0|                  0|                         0|                          0|                     0|                        0|                 0|                      0|                 0|                          0|                     0|              null|                   0|                        0|\n",
            "|c5504837c6ddf1d5e...|                 0|                 116|                                 0|         1.0|                      32|                            0|                  0|                         0|                        104|                      0|                 32|                 8|                       0|                          88|                         0|         0|                  0|                      0|                             0|                        0|                            0|             0|               0|                         0|             472|                            24|                  64|                     0|                              0|                  0|                         0|                          0|                     8|                       72|                 0|                      0|                 8|                          0|                     0|           435.052|                   0|                        0|\n",
            "|0bc4afeefaa54951e...|                 0|                   1|                                 0|         1.0|                       0|                            0|                  0|                         0|                          0|                      0|                  0|                 0|                       0|                           0|                         0|         0|                  0|                      0|                             0|                        0|                            0|             1|               0|                         0|               0|                             0|                   0|                     0|                              0|                  0|                         0|                          0|                     0|                        0|                 0|                      0|                 0|                          0|                     0|              null|                   0|                        0|\n",
            "|84b86cd87db1f9d46...|               336|                 140|                                16|         8.0|                     208|                            0|                  0|                         0|                         72|                      0|                  0|                 0|                       0|                           8|                         0|         0|                  0|                      0|                             0|                        0|                            0|             0|               0|                         0|             208|                            40|                  72|                     0|                             96|                  0|                         0|                          0|                     0|                        8|                 0|                      0|                 0|                          0|                     0|            73.575|                   0|                        0|\n",
            "|a397f5dcd2d8e8653...|                 0|                 151|                                 0|         5.0|                      72|                            0|                  0|                         0|                         48|                      0|                  0|                 0|                       0|                         136|                         0|         0|                  0|                      0|                             0|                        0|                            0|             0|               0|                         0|             568|                            56|                  72|                     0|                              0|                  0|                         0|                          0|                     0|                      112|                 0|                      0|                 0|                          0|                     0|           479.905|                   0|                        0|\n",
            "|42531e33899347df4...|                 0|                   1|                                 0|         1.0|                       0|                            0|                  0|                         0|                          0|                      0|                  0|                 0|                       0|                           0|                         0|         0|                  0|                      0|                             0|                        0|                            0|             1|               0|                         0|               0|                             0|                   0|                     0|                              0|                  0|                         0|                          0|                     0|                        0|                 0|                      0|                 0|                          0|                     0|              null|                   0|                        0|\n",
            "|70f0c23cbdfdc4094...|                 0|                 237|                                88|        10.0|                     568|                            0|                  0|                         8|                          0|                      0|                  0|                 0|                       0|                          48|                         0|         0|                  0|                      0|                            24|                        0|                            0|             0|               0|                         0|             624|                            72|                 264|                     0|                             96|                  0|                         0|                          0|                     0|                        8|                 0|                      0|                 0|                          0|                     0|           222.713|                   0|                        0|\n",
            "|c52b5a36d79d30a42...|                 0|                  43|                                 8|         6.0|                      16|                            0|                  0|                         0|                         32|                      0|                  8|                 0|                       0|                           8|                         0|         0|                  0|                      0|                             0|                        0|                            0|             0|               0|                         0|              96|                            16|                  56|                     0|                             48|                  0|                         0|                          0|                     0|                        0|                 0|                      0|                 0|                          0|                     0|           113.471|                   0|                        0|\n",
            "|7400624235edd2eea...|                 0|                   1|                                 0|         1.0|                       0|                            0|                  0|                         0|                          0|                      0|                  0|                 0|                       0|                           0|                         0|         0|                  0|                      0|                             0|                        0|                            0|             1|               0|                         0|               0|                             0|                   0|                     0|                              0|                  0|                         0|                          0|                     0|                        0|                 0|                      0|                 0|                          0|                     0|              null|                   0|                        0|\n",
            "|6e7732771dd22b109...|                 0|                 181|                                 0|         4.0|                     640|                            0|                  0|                         0|                          0|                      0|                  0|                 0|                       0|                         104|                         0|         0|                  0|                      0|                             0|                        0|                            0|             0|               0|                         0|             360|                            48|                  72|                     0|                             96|                  0|                         0|                          0|                     0|                       48|                 0|                      0|                 0|                          0|                     0|124.89699999999999|                   0|                        0|\n",
            "|1aaa9ffddb5b4ac53...|                 0|                   1|                                 0|         1.0|                       0|                            0|                  0|                         0|                          0|                      0|                  0|                 0|                       0|                           0|                         0|         0|                  0|                      0|                             0|                        0|                            0|             1|               0|                         0|               0|                             0|                   0|                     0|                              0|                  0|                         0|                          0|                     0|                        0|                 0|                      0|                 0|                          0|                     0|              null|                   0|                        0|\n",
            "|13ab72ee545d9c1a6...|                 0|                 199|                                32|         7.0|                     344|                            0|                  0|                         0|                          0|                      0|                  0|                 0|                       0|                          40|                         0|         0|                  0|                      0|                            24|                        0|                            0|             0|               0|                         0|             680|                           128|                 152|                     0|                             48|                  0|                         0|                          0|                     0|                       24|                 0|                      0|                 0|                          0|                     0|           607.231|                   0|                        0|\n",
            "|96b9e641367e3db5c...|                 0|                  12|                                 0|         2.0|                       0|                            0|                  0|                         0|                          8|                      0|                  0|                 0|                       0|                           0|                         0|         0|                  0|                      0|                             0|                        0|                            0|             1|               0|                         0|              32|                             8|                   8|                     0|                              0|                  0|                         0|                          0|                     0|                        0|                 0|                      0|                 0|                          0|                     0|            19.032|                   0|                        0|\n",
            "|0029ea3f4cff376b8...|                 0|                  71|                                 0|         3.0|                      32|                            0|                  0|                         0|                         32|                      0|                  0|                 0|                       0|                          16|                         0|         0|                  0|                      0|                             0|                        0|                            0|             0|               0|                         0|             112|                            16|                  64|                     0|                             16|                  0|                         0|                          0|                     0|                      248|                 0|                      0|                 0|                          0|                     0|           175.262|                   0|                        0|\n",
            "|945820713f05c5245...|                 0|                1280|                               232|        16.0|                     576|                            0|                  0|                         0|                          0|                      0|                  0|                 0|                       0|                        1104|                         0|         0|                  8|                      0|                             0|                        0|                            0|             0|               0|                         0|            3688|                            96|                1296|                     0|                            216|                  0|                         0|                          0|                     0|                     2640|                 0|                     40|                 0|                          0|                     0|3324.9069999999997|                   0|                        0|\n",
            "|12572896fe7f6993f...|                 0|                   2|                                 0|        null|                       0|                            0|                  0|                         0|                          0|                      0|                  0|                 0|                       0|                           0|                         0|         0|                  0|                      0|                             0|                        0|                            0|             0|               0|                         0|               0|                             0|                   0|                     0|                              0|                  0|                         0|                          0|                     0|                        0|                 0|                      0|                 0|                          0|                     0|             0.001|                   0|                        0|\n",
            "|83cdd7ac1e5d8be67...|                 0|                 469|                                16|         2.0|                     336|                            0|                  0|                         0|                          0|                      0|                  0|                 0|                       0|                         496|                         0|         0|                  0|                      0|                             0|                        0|                            0|             0|               0|                         0|            1680|                            48|                 376|                     0|                             48|                  0|                         0|                          0|                     0|                      656|                 0|                      0|                 0|                          0|                     0|          1776.533|                   0|                        0|\n",
            "|06052eb9598ba7849...|                56|                  54|                                32|         2.0|                       0|                            0|                  0|                         0|                         16|                      0|                  0|                 0|                       0|                           8|                         0|         0|                  0|                      0|                            24|                        0|                            0|             0|               0|                         0|             168|                            16|                  16|                     0|                             32|                  0|                         0|                          0|                     0|                       40|                 0|                      0|                 0|                          0|                     0|           156.568|                   0|                        0|\n",
            "|dd8ea088af8fa914d...|                 0|                 366|                               192|        16.0|                     288|                            0|                  0|                         0|                          0|                      0|                  0|                 0|                       0|                          32|                         0|         0|                  0|                      0|                            32|                        0|                           16|             0|               0|                         0|             936|                            96|                 560|                     0|                            120|                  0|                         0|                          0|                     0|                      504|                 0|                      8|                 0|                          0|                     0|          4236.867|                   0|                        0|\n",
            "|017ea66032d897a62...|                 0|                   1|                                 0|         1.0|                       0|                            0|                  0|                         0|                          0|                      0|                  0|                 0|                       0|                           0|                         0|         0|                  0|                      0|                             0|                        0|                            0|             1|               0|                         0|               0|                             0|                   0|                     0|                              0|                  0|                         0|                          0|                     0|                        0|                 0|                      0|                 0|                          0|                     0|              null|                   0|                        0|\n",
            "|001a53f8d92331b10...|                 0|                  65|                                 8|         6.0|                      96|                            0|                  0|                         0|                          0|                      0|                  0|                 0|                       0|                          16|                         0|         0|                  0|                      0|                             0|                        0|                            0|             0|               0|                         0|             160|                            24|                  56|                     0|                             72|                  0|                         0|                          0|                     0|                       24|                 0|                      0|                 0|                          0|                     0|           680.984|                   0|                        0|\n",
            "|550c0d3aacba7f456...|                 0|                   1|                                 0|         1.0|                       0|                            0|                  0|                         0|                          0|                      0|                  0|                 0|                       0|                           0|                         0|         0|                  0|                      0|                             0|                        0|                            0|             1|               0|                         0|               0|                             0|                   0|                     0|                              0|                  0|                         0|                          0|                     0|                        0|                 0|                      0|                 0|                          0|                     0|              null|                   0|                        0|\n",
            "|1f6238271c3585796...|                 8|                 113|                                 0|         1.0|                      72|                            0|                  0|                         0|                          0|                      0|                  0|                 0|                       0|                         128|                         0|         0|                  0|                      0|                             0|                        0|                            0|             0|               0|                         0|             416|                             8|                 256|                     0|                              8|                  0|                         0|                          0|                     0|                        0|                 0|                      0|                 0|                          0|                     0|           273.904|                   0|                        0|\n",
            "|d41217187561302db...|               640|                 420|                                16|        13.0|                    1120|                            0|                  0|                         0|                          0|                      0|                  0|                 0|                       0|                          88|                         0|         0|                  0|                      0|                             0|                        0|                            0|             0|               0|                         0|             520|                            80|                 168|                     0|                            240|                  0|                         0|                          0|                     0|                      352|                 0|                      0|                 0|                          0|                     0|           302.846|                   0|                        0|\n",
            "|9b1ea85a4986fbe16...|                 0|                  51|                                 8|         1.0|                      48|                            0|                  0|                         0|                          0|                      0|                  0|                 0|                       0|                          24|                         0|         0|                  0|                      0|                             0|                        0|                            0|             0|               0|                         0|             168|                             8|                  56|                     0|                              8|                  0|                         0|                          0|                     0|                        8|                 0|                     16|                 0|                          0|                     0|            155.85|                   0|                        0|\n",
            "|49ad890caf99dfb3e...|                 0|                   1|                                 0|         1.0|                       0|                            0|                  0|                         0|                          0|                      0|                  0|                 0|                       0|                           0|                         0|         0|                  0|                      0|                             0|                        0|                            0|             1|               0|                         0|               0|                             0|                   0|                     0|                              0|                  0|                         0|                          0|                     0|                        0|                 0|                      0|                 0|                          0|                     0|              null|                   0|                        0|\n",
            "|5c46e2c091378b6ea...|                 0|                 324|                                96|        18.0|                     456|                            0|                  0|                         0|                          0|                      0|                  0|                 0|                       0|                         112|                         0|         0|                  0|                      0|                             0|                        0|                            0|             0|               0|                         0|            1024|                           136|                 256|                     0|                             80|                  0|                         0|                          0|                     0|                      208|                 0|                      0|                 0|                          0|                     0|3133.3239999999996|                   0|                        0|\n",
            "|9c90acabb75b7d5dc...|                 0|                 132|                                16|         7.0|                     160|                            0|                  0|                         0|                          0|                      0|                  0|                 8|                       0|                          48|                         0|         0|                  0|                      0|                            24|                        0|                            8|             0|               0|                         0|             360|                            32|                 104|                     0|                             96|                  0|                         0|                          0|                     0|                      120|                 0|                      0|                 0|                          0|                     0|          1574.355|                   0|                        0|\n",
            "|ffda78252099f4bcf...|                 0|                 196|                                56|         5.0|                     168|                            0|                  0|                         8|                        144|                      0|                 24|                 0|                       0|                          48|                         0|         0|                  0|                      0|                             0|                        0|                           32|             0|               0|                         0|             520|                            40|                 112|                     0|                             96|                  0|                         0|                          0|                     0|                      248|                 0|                      0|                 0|                          0|                     0|           611.617|                   0|                        0|\n",
            "|de6dc082834caae63...|                 0|                   4|                                 0|         2.0|                       0|                            0|                  8|                         0|                          0|                      0|                  0|                 0|                       0|                           0|                         0|         0|                  0|                      0|                             0|                        0|                            0|             0|               0|                         0|               8|                             0|                   0|                     0|                              0|                  0|                         0|                          0|                     0|                        0|                 0|                      0|                 0|                          0|                     0|              null|                   0|                        0|\n",
            "|e4b517b13dc3ec625...|                 0|                 413|                               112|         5.0|                    1280|                            0|                  0|                         0|                        192|                      0|                  8|                 0|                       0|                          88|                         0|         0|                  0|                      0|                             0|                        0|                            0|             0|               0|                         0|             696|                            72|                 312|                     0|                            152|                  0|                         0|                          0|                     0|                       80|                 0|                      0|                 0|                          0|                     0|511.95799999999997|                   0|                        0|\n",
            "|3650365c042b6b28d...|                 0|                 462|                                 0|         6.0|                       8|                            0|                  0|                         0|                          0|                      0|                  0|                 0|                       0|                         608|                         0|         0|                  0|                      0|                             0|                        0|                            0|             0|               0|                         0|            1952|                            80|                 456|                     0|                            160|                  0|                         0|                          0|                     0|                       16|                 0|                      8|                 0|                          0|                     0|12808.828000000001|                   0|                        0|\n",
            "|b51c1512951c1901b...|                 0|                 225|                                 0|        13.0|                     488|                            0|                  0|                         0|                          0|                      0|                  0|                 0|                       0|                         120|                         0|         0|                  0|                      0|                            48|                        0|                            0|             0|               0|                         0|             624|                            72|                 192|                     0|                             80|                  0|                         0|                          0|                     0|                       32|                 0|                      0|                 0|                          0|                     0| 929.0350000000001|                   0|                        0|\n",
            "|2ba6f160f69727eb0...|                 0|                   1|                                 0|         1.0|                       0|                            0|                  0|                         0|                          0|                      0|                  0|                 0|                       0|                           0|                         0|         0|                  0|                      0|                             0|                        0|                            0|             1|               0|                         0|               0|                             0|                   0|                     0|                              0|                  0|                         0|                          0|                     0|                        0|                 0|                      0|                 0|                          0|                     0|              null|                   0|                        0|\n",
            "|a1a64e8507d88fa7f...|                 0|                 120|                                 0|        null|                     960|                            0|                  0|                         0|                          0|                      0|                  0|                 0|                       0|                           0|                         0|         0|                  0|                      0|                             0|                        0|                            0|             0|               0|                         0|               0|                             0|                   0|                     0|                              0|                  0|                         0|                          0|                     0|                        0|                 0|                      0|                 0|                          0|                     0|              null|                   0|                        0|\n",
            "|310b35c2e8234fa67...|               160|                  23|                                 0|        null|                      24|                            0|                  0|                         0|                          0|                      0|                  0|                 0|                       0|                           0|                         0|         0|                  0|                      0|                             0|                        0|                            0|             0|               0|                         0|               0|                             0|                   0|                     0|                              0|                  0|                         0|                          0|                     0|                        0|                 0|                      0|                 0|                          0|                     0|              null|                   0|                        0|\n",
            "|20f863a6df41f8545...|                 0|                  66|                                16|         3.0|                     200|                            0|                  0|                         0|                          0|                      0|                  0|                 0|                       0|                           0|                         0|         0|                  0|                      0|                             8|                        0|                            0|             0|               0|                         0|             104|                            24|                  40|                     0|                             32|                  0|                         0|                          0|                     0|                       16|                 0|                      0|                 0|                          0|                     0| 65.75399999999999|                   0|                        0|\n",
            "|d2df7d0a490136fe0...|                 0|                 518|                                72|        17.0|                      72|                            0|                  0|                         0|                        184|                      0|                 64|                 0|                       0|                         352|                         0|         0|                  0|                      0|                             8|                        0|                            0|             0|               0|                         0|            1632|                           152|                 664|                     0|                            312|                  0|                         0|                          0|                     0|                      176|                 0|                      0|                 0|                          0|                     0|1138.1219999999998|                   0|                        0|\n",
            "|6be862b269dd58e05...|                 0|                 817|                               200|        15.0|                      16|                            0|                  0|                         0|                          0|                      0|                  0|                 0|                       0|                         472|                         0|         0|                  0|                      0|                            32|                        0|                            0|             0|               0|                         0|            2056|                           104|                1320|                     0|                            160|                  0|                         0|                          0|                     0|                     1592|                 0|                     16|                 0|                          0|                     0|          4913.469|                   0|                        0|\n",
            "|1b7335e3226f0990d...|                 0|                   1|                                 0|         1.0|                       0|                            0|                  0|                         0|                          0|                      0|                  0|                 0|                       0|                           0|                         0|         0|                  0|                      0|                             0|                        0|                            0|             1|               0|                         0|               0|                             0|                   0|                     0|                              0|                  0|                         0|                          0|                     0|                        0|                 0|                      0|                 0|                          0|                     0|              null|                   0|                        0|\n",
            "|218258a9b5657072f...|                 0|                 376|                                56|        11.0|                    2152|                            0|                  0|                         0|                         32|                      0|                  0|                 0|                       0|                           0|                         0|         0|                  0|                      0|                             0|                        0|                            0|             0|               0|                         0|             320|                            64|                 136|                     0|                            144|                  0|                         0|                          0|                     0|                       16|                 0|                      0|                 0|                          0|                     0|279.97999999999996|                   0|                        0|\n",
            "|e6d4184b3d5fcf9b8...|                 0|                   3|                                 0|         1.0|                       0|                            0|                  0|                         0|                          0|                      0|                  0|                24|                       0|                           0|                         0|         0|                  0|                      0|                             0|                        0|                            0|             0|               0|                         0|               0|                             0|                   0|                     0|                              0|                  0|                         0|                          0|                     0|                        0|                 0|                      0|                 0|                          0|                     0|              null|                   0|                        0|\n",
            "|7c6b09040bf6cff8e...|                 0|                   1|                                 0|         1.0|                       0|                            0|                  0|                         0|                          0|                      0|                  0|                 0|                       0|                           0|                         0|         0|                  0|                      0|                             0|                        0|                            0|             1|               0|                         0|               0|                             0|                   0|                     0|                              0|                  0|                         0|                          0|                     0|                        0|                 0|                      0|                 0|                          0|                     0|              null|                   0|                        0|\n",
            "|23fe57ef0021fd750...|                 0|                 181|                                 0|         9.0|                     296|                            0|                  0|                         0|                          0|                      0|                  0|                 0|                       0|                          80|                         0|         0|                  0|                      0|                            32|                        0|                           56|             0|               0|                         0|             600|                            56|                 112|                     0|                             64|                  0|                         0|                          0|                     0|                       32|                 0|                      0|                 0|                          0|                     0|            865.93|                   0|                        0|\n",
            "|bf8f31cf521ef58fc...|                 0|                 113|                                 0|         6.0|                     112|                            0|                  0|                         0|                          0|                      0|                  0|                 0|                       0|                          72|                         0|         0|                  0|                      0|                             0|                        0|                            0|             0|               0|                         0|             264|                            40|                 176|                     0|                             96|                  0|                         0|                          0|                     0|                       72|                 0|                      0|                 0|                          0|                     0|          4514.146|                   0|                        0|\n",
            "|97981a7014f5a97b2...|                 0|                 642|                                96|        11.0|                    1736|                            0|                  0|                         0|                          0|                      0|                  0|                 0|                       0|                         296|                         0|         0|                  0|                      0|                             0|                        0|                            0|             0|               0|                         0|            1448|                           272|                 800|                     0|                            272|                  0|                         0|                          0|                     0|                       40|                 0|                      0|                 0|                          0|                     0|          1081.547|                   0|                        0|\n",
            "|bc137173c7d8bf987...|                 0|                 214|                                32|        11.0|                     800|                            0|                  0|                         0|                          0|                      0|                  0|                 0|                       0|                          32|                         0|         0|                  0|                      0|                             0|                        0|                           16|             0|               0|                         0|             448|                            72|                 112|                     0|                             80|                  0|                         0|                          0|                     0|                        0|                 0|                      0|                 0|                          0|                     0|          1113.004|                   0|                        0|\n",
            "|8fac603e6c73ab786...|                 0|                 159|                                 8|         4.0|                     304|                            0|                  0|                         0|                         32|                      0|                  8|                 0|                       0|                          40|                         0|         0|                  0|                      0|                             0|                        0|                            0|             0|               0|                         0|             296|                            40|                  72|                     0|                             48|                  0|                         0|                          0|                     0|                      320|                 0|                      0|                 0|                          0|                     0|            331.16|                   0|                        0|\n",
            "|da3d1cfb022b3cfcd...|                 0|                   1|                                 0|         1.0|                       0|                            0|                  0|                         0|                          0|                      0|                  0|                 0|                       0|                           0|                         0|         0|                  0|                      0|                             0|                        0|                            0|             1|               0|                         0|               0|                             0|                   0|                     0|                              0|                  0|                         0|                          0|                     0|                        0|                 0|                      0|                 0|                          0|                     0|              null|                   0|                        0|\n",
            "|ec3aaec81cddf9e12...|                 0|                   1|                                 0|         1.0|                       0|                            0|                  0|                         0|                          0|                      0|                  0|                 0|                       0|                           0|                         0|         0|                  0|                      0|                             0|                        0|                            0|             1|               0|                         0|               0|                             0|                   0|                     0|                              0|                  0|                         0|                          0|                     0|                        0|                 0|                      0|                 0|                          0|                     0|              null|                   0|                        0|\n",
            "|00e5423c7d2fea980...|                 0|                  89|                                 0|         1.0|                      56|                            0|                  0|                         0|                          0|                      0|                  0|                 0|                       0|                          56|                         0|         0|                  0|                      0|                            48|                        0|                            0|             0|               0|                         0|             296|                             8|                  40|                     0|                              0|                  0|                         0|                          8|                     0|                        0|                 0|                     16|                 0|                          0|                     0|            119.63|                   0|                        0|\n",
            "|0d62f413e94dc7110...|               296|                  61|                                 0|         1.0|                     112|                            0|                  0|                         0|                          0|                      0|                  0|                 0|                       0|                           0|                         0|         0|                  0|                      0|                             0|                        0|                            0|             0|               0|                         0|              32|                             8|                  16|                     0|                             16|                  0|                         0|                          0|                     0|                        0|                 0|                      0|                 0|                          0|                     0|             7.694|                   0|                        0|\n",
            "|b3edf3136ea425be0...|               536|                 222|                                 0|         9.0|                      88|                            0|                  0|                         0|                          0|                      0|                  0|                 0|                       0|                          88|                         0|         0|                  0|                      0|                             0|                        0|                            0|             0|               0|                         0|             488|                             0|                 232|                     0|                              0|                  0|                         0|                          0|                     0|                        0|                 0|                      0|                 0|                          0|                     0| 750.1239999999999|                   0|                        0|\n",
            "|c22631404de909370...|                 0|                   1|                                 0|         1.0|                       0|                            0|                  0|                         0|                          0|                      0|                  0|                 0|                       0|                           0|                         0|         0|                  0|                      0|                             0|                        0|                            0|             1|               0|                         0|               0|                             0|                   0|                     0|                              0|                  0|                         0|                          0|                     0|                        0|                 0|                      0|                 0|                          0|                     0|              null|                   0|                        0|\n",
            "|dc9839bde800e0495...|                 0|                  54|                                 0|         5.0|                      16|                            0|                  0|                         0|                          0|                      0|                  0|                 0|                       0|                          40|                         0|         0|                  0|                      0|                             0|                        0|                            0|             0|               0|                         0|             192|                            32|                  56|                     0|                             40|                  0|                         0|                          0|                     0|                        0|                 0|                      0|                 0|                          0|                     0|           191.035|                   0|                        0|\n",
            "|3bc802d3c0cfc2492...|                 0|                 112|                                 8|         4.0|                     680|                            0|                  0|                         0|                          0|                      0|                  0|                 0|                       0|                           0|                         0|         0|                  0|                      0|                             0|                        0|                            0|             0|               0|                         0|              40|                            24|                  96|                     0|                             16|                  0|                         0|                          0|                     0|                        0|                 0|                      0|                 0|                          0|                     0|             193.3|                   0|                        0|\n",
            "|34a5f21869fabe24d...|                 0|                 128|                                32|         5.0|                     568|                            0|                  0|                         0|                         64|                      0|                  0|                 0|                       0|                           8|                         0|         0|                  0|                      0|                             0|                        0|                            0|             0|               0|                         0|             184|                            40|                  48|                     0|                              0|                  0|                         0|                          0|                     0|                        0|                 0|                      0|                 0|                          0|                     0|             99.34|                   0|                        0|\n",
            "|55d89df4935d9d8f0...|                 0|                   1|                                 0|         1.0|                       0|                            0|                  0|                         0|                          0|                      0|                  0|                 0|                       0|                           0|                         0|         0|                  0|                      0|                             0|                        0|                            0|             1|               0|                         0|               0|                             0|                   0|                     0|                              0|                  0|                         0|                          0|                     0|                        0|                 0|                      0|                 0|                          0|                     0|              null|                   0|                        0|\n",
            "|0d6347c701369d99a...|                 0|                 137|                                 0|         6.0|                     224|                            0|                  0|                         0|                          0|                      0|                  0|                 0|                       0|                         104|                         0|         0|                  0|                      0|                             0|                        0|                            0|             0|               0|                         0|             400|                            56|                  88|                     0|                             48|                  0|                         0|                          0|                     0|                       80|                 0|                      0|                 0|                          0|                     0|           306.841|                   0|                        0|\n",
            "|aafaa5c0fdf951053...|              1632|                 631|                                80|         9.0|                     168|                            0|                  0|                         0|                          0|                      0|                  0|                 0|                       0|                          72|                         0|         0|                  0|                      0|                             0|                        0|                            0|             0|               0|                         0|             904|                            88|                 368|                     0|                            264|                  0|                         0|                          0|                   192|                     1200|                 0|                      0|                 0|                          0|                     0|          3203.062|                   0|                        0|\n",
            "|c61275b17ea74484e...|                 0|                  62|                                 0|         2.0|                     248|                            0|                  0|                         0|                         32|                      0|                  8|                 0|                       0|                          16|                         0|         0|                  8|                      0|                             0|                        0|                            0|             0|               0|                         0|             104|                             8|                  16|                     0|                              0|                  0|                         0|                          0|                     0|                        8|                 0|                     16|                 0|                          0|                     0|            77.374|                   0|                        0|\n",
            "|c92f5d7a80030846b...|                 0|                  16|                                16|         1.0|                      16|                            0|                  0|                         0|                          0|                      0|                  0|                 0|                       0|                           0|                         0|         0|                  0|                      0|                             0|                        0|                            0|             0|               0|                         0|              32|                             8|                  16|                     0|                              8|                  0|                         0|                          0|                     0|                        0|                 0|                      0|                 0|                          0|                     0|           121.309|                   0|                        0|\n",
            "|275d4e7f855b3ebce...|                 0|                  83|                                16|         9.0|                     304|                            0|                  0|                         0|                          0|                      0|                  0|                 0|                       0|                           0|                         0|         0|                  0|                      0|                             0|                        0|                            0|             0|               0|                         0|             112|                            16|                  64|                     0|                             24|                  0|                         0|                          0|                     0|                       56|                 0|                      0|                 0|                          0|                     0|           110.341|                   0|                        0|\n",
            "|908d1fd8e3598e1b6...|                 0|                   1|                                 0|         1.0|                       0|                            0|                  0|                         0|                          0|                      0|                  0|                 0|                       0|                           0|                         0|         0|                  0|                      0|                             0|                        0|                            0|             1|               0|                         0|               0|                             0|                   0|                     0|                              0|                  0|                         0|                          0|                     0|                        0|                 0|                      0|                 0|                          0|                     0|              null|                   0|                        0|\n",
            "|d5373d94f6f40bccb...|                 0|                  95|                                56|         8.0|                      80|                            0|                  0|                         0|                         16|                      0|                  0|                 0|                       0|                           0|                         0|         0|                  0|                      0|                             0|                        0|                            0|             0|               0|                         0|             232|                            56|                 104|                     0|                            144|                  0|                         0|                          0|                     0|                        0|                 0|                      0|                 0|                          0|                     0|118.35400000000001|                   0|                        0|\n",
            "|7231629283ef63a7d...|                32|                  47|                                 0|         2.0|                       0|                            0|                  0|                         0|                          0|                      0|                  0|                 0|                       0|                          32|                         0|         0|                  0|                      0|                            32|                        0|                            0|             0|               0|                         0|             104|                            32|                  40|                     0|                              0|                  0|                         0|                          0|                     0|                        0|                 0|                      0|                 0|                          0|                     0|           161.076|                   0|                        0|\n",
            "|29b9b12f76c16a3a5...|                 0|                 143|                                 0|         5.0|                     392|                            0|                  0|                         0|                        160|                      0|                  0|                 0|                       0|                          56|                         0|         0|                  0|                      0|                             0|                        0|                            0|             0|               0|                         0|             208|                            24|                 176|                     0|                              0|                  0|                         0|                          0|                     0|                       16|                 0|                      0|                 0|                          0|                     0|           649.544|                   0|                        0|\n",
            "|8dcf7d1988b571028...|                 0|                   1|                                 0|         1.0|                       0|                            0|                  0|                         0|                          0|                      0|                  0|                 0|                       0|                           0|                         0|         0|                  0|                      0|                             0|                        0|                            0|             1|               0|                         0|               0|                             0|                   0|                     0|                              0|                  0|                         0|                          0|                     0|                        0|                 0|                      0|                 0|                          0|                     0|              null|                   0|                        0|\n",
            "|88ddc5a0266b4831e...|              2984|                1347|                                 0|         3.0|                    7536|                            0|                  0|                         0|                         24|                      0|                  0|                 0|                       0|                          16|                         0|         0|                  0|                      0|                             8|                        0|                            0|             0|               0|                         0|              96|                            16|                  16|                     0|                             32|                  0|                         0|                          0|                     8|                        0|                 0|                      0|                 0|                          0|                     0|            12.037|                   0|                        0|\n",
            "|19d8a40d8fad44236...|                 0|                 104|                                16|         6.0|                     128|                            0|                  0|                         0|                          0|                      0|                  0|                 0|                       0|                          48|                         0|         0|                  0|                      0|                             0|                        0|                            8|             0|               0|                         0|             296|                            40|                  96|                     0|                             72|                  0|                         0|                          0|                     0|                       48|                 0|                      0|                 0|                          0|                     0|            288.18|                   0|                        0|\n",
            "|30b73cab634151eb4...|                 0|                  42|                                 8|         2.0|                     120|                            0|                  0|                         0|                         16|                      0|                  0|                 0|                       0|                          16|                         0|         0|                  0|                      0|                             0|                        0|                            0|             0|               0|                         0|              80|                            16|                  16|                     0|                             40|                  0|                         0|                          0|                     0|                        0|                 0|                      0|                 0|                          0|                     0|            25.129|                   0|                        0|\n",
            "|0fcf7917efb41802c...|                 0|                   1|                                 0|         1.0|                       0|                            0|                  0|                         0|                          0|                      0|                  0|                 0|                       0|                           0|                         0|         0|                  0|                      0|                             0|                        0|                            0|             1|               0|                         0|               0|                             0|                   0|                     0|                              0|                  0|                         0|                          0|                     0|                        0|                 0|                      0|                 0|                          0|                     0|              null|                   0|                        0|\n",
            "|3b04bce22570dd60a...|                 0|                 110|                                16|         4.0|                      64|                            0|                  0|                         0|                          0|                      0|                  0|                 0|                       0|                          80|                         0|         0|                  0|                      0|                             0|                        0|                            0|             0|               0|                         0|             320|                            40|                 128|                     0|                            120|                  0|                         0|                          0|                     0|                       40|                 0|                      0|                 0|                          0|                     0|277.64200000000005|                   0|                        0|\n",
            "|9b159eaa5dbd29802...|                 0|                  89|                                 0|         1.0|                     496|                            0|                  0|                         0|                          0|                      0|                  0|                 0|                       0|                          40|                         0|         0|                  0|                      0|                             0|                        0|                            0|             0|               0|                         0|              72|                             8|                  64|                     0|                             24|                  0|                         0|                          0|                     0|                        0|                 0|                      0|                 0|                          0|                     0|           404.787|                   0|                        0|\n",
            "|3c93121fe3f03504c...|                 0|                 144|                                 8|         9.0|                     272|                            0|                  0|                         0|                          0|                      0|                  0|                 0|                       0|                          56|                         0|         0|                  0|                      0|                             0|                        0|                            0|             0|               0|                         0|             376|                            56|                 144|                     0|                            120|                  0|                         0|                          0|                     0|                       48|                 0|                      0|                 0|                          0|                     0|           251.503|                   0|                        0|\n",
            "|98babc5cb6e82f56d...|                 0|                   1|                                 0|         1.0|                       0|                            0|                  0|                         0|                          0|                      0|                  0|                 0|                       0|                           0|                         0|         0|                  0|                      0|                             0|                        0|                            0|             1|               0|                         0|               0|                             0|                   0|                     0|                              0|                  0|                         0|                          0|                     0|                        0|                 0|                      0|                 0|                          0|                     0|              null|                   0|                        0|\n",
            "|8b2d8f22ddc5511a7...|                 0|                 180|                                96|         1.0|                     288|                            0|                  0|                         0|                         96|                      0|                  0|                 0|                       0|                           0|                         0|         0|                  0|                      0|                             0|                        0|                            0|             0|               0|                         0|             384|                            96|                  96|                     0|                            192|                  0|                         0|                          0|                     0|                        0|                 0|                      0|                 0|                          0|                     0|            131.16|                   0|                        0|\n",
            "|d5ebb06add96790c4...|                 0|                  46|                                 0|         4.0|                       8|                            0|                  0|                         0|                         72|                      0|                  0|                 0|                       0|                          32|                         0|         0|                  0|                      0|                             0|                        0|                            0|             0|               0|                         0|             120|                            16|                  56|                     0|                              0|                  0|                         0|                          0|                     0|                        0|                 0|                      0|                 0|                          0|                     0|            133.46|                   0|                        0|\n",
            "|2b2d783998aa8fae0...|                 0|                 160|                                24|         9.0|                      40|                            0|                  0|                         0|                          0|                      0|                  0|                 0|                       0|                         104|                         0|         0|                  0|                      0|                             8|                        0|                           24|             0|               0|                         0|             512|                            32|                 136|                     0|                             96|                  0|                         0|                          0|                     0|                      160|                 0|                      0|                32|                          0|                     0|           2043.35|                   0|                        0|\n",
            "|0114bad2aa33f6873...|                 0|                   1|                                 0|         1.0|                       0|                            0|                  0|                         0|                          0|                      0|                  0|                 0|                       0|                           0|                         0|         0|                  0|                      0|                             0|                        0|                            0|             1|               0|                         0|               0|                             0|                   0|                     0|                              0|                  0|                         0|                          0|                     0|                        0|                 0|                      0|                 0|                          0|                     0|              null|                   0|                        0|\n",
            "+--------------------+------------------+--------------------+----------------------------------+------------+------------------------+-----------------------------+-------------------+--------------------------+---------------------------+-----------------------+-------------------+------------------+------------------------+----------------------------+--------------------------+----------+-------------------+-----------------------+------------------------------+-------------------------+-----------------------------+--------------+----------------+--------------------------+----------------+------------------------------+--------------------+----------------------+-------------------------------+-------------------+--------------------------+---------------------------+----------------------+-------------------------+------------------+-----------------------+------------------+---------------------------+----------------------+------------------+--------------------+-------------------------+\n",
            "only showing top 100 rows\n",
            "\n"
          ]
        }
      ],
      "source": [
        "df_final.show(100)"
      ]
    },
    {
      "cell_type": "markdown",
      "metadata": {
        "id": "leQp5NvnFtom"
      },
      "source": [
        "Saving the results as we dont need to run this line of code again and again as it takes lots of time"
      ]
    },
    {
      "cell_type": "code",
      "execution_count": null,
      "metadata": {
        "id": "OC0-bu5JCgXc"
      },
      "outputs": [],
      "source": [
        "df_final.coalesce(1).write.option(\"header\",True).csv('/content/drive/MyDrive/Audify/onemore')"
      ]
    }
  ],
  "metadata": {
    "colab": {
      "collapsed_sections": [],
      "name": "audify_pyspark.ipynb",
      "provenance": []
    },
    "kernelspec": {
      "display_name": "Python 3",
      "name": "python3"
    },
    "language_info": {
      "name": "python"
    }
  },
  "nbformat": 4,
  "nbformat_minor": 0
}